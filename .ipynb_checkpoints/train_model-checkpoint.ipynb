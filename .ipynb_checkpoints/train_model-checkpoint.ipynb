{
 "cells": [
  {
   "cell_type": "code",
   "execution_count": 1,
   "id": "09460cbd",
   "metadata": {},
   "outputs": [],
   "source": [
    "import pandas as pd\n",
    "import numpy as np\n",
    "from sklearn.model_selection import train_test_split\n",
    "from sklearn.ensemble import RandomForestClassifier\n",
    "from sklearn.metrics import accuracy_score, confusion_matrix, classification_report\n",
    "import seaborn as sns\n",
    "import matplotlib.pyplot as plt\n",
    "import pickle\n",
    "from joblib import dump"
   ]
  },
  {
   "cell_type": "code",
   "execution_count": 3,
   "id": "6fa2b315",
   "metadata": {},
   "outputs": [
    {
     "name": "stderr",
     "output_type": "stream",
     "text": [
      "/var/folders/f7/tlcy17r53txfphvhbnj3jqxc0000gn/T/ipykernel_37854/2648881341.py:1: DtypeWarning: Columns (3,14,19,23) have mixed types. Specify dtype option on import or set low_memory=False.\n",
      "  df = pd.read_csv('mqttdatasetreduced1.csv')\n"
     ]
    }
   ],
   "source": [
    "df = pd.read_csv('mqttdatasetreduced1.csv')\n",
    "# dtype={'mqtt.conack.flags':object,'mqtt.conflags':object,'mqtt.msg':'str','mqtt.protoname':object})"
   ]
  },
  {
   "cell_type": "code",
   "execution_count": 4,
   "id": "ac892a2b",
   "metadata": {},
   "outputs": [
    {
     "name": "stdout",
     "output_type": "stream",
     "text": [
      "<class 'pandas.core.frame.DataFrame'>\n",
      "RangeIndex: 12081179 entries, 0 to 12081178\n",
      "Data columns (total 34 columns):\n",
      " #   Column                      Dtype  \n",
      "---  ------                      -----  \n",
      " 0   tcp.flags                   object \n",
      " 1   tcp.time_delta              float64\n",
      " 2   tcp.len                     int64  \n",
      " 3   mqtt.conack.flags           object \n",
      " 4   mqtt.conack.flags.reserved  float64\n",
      " 5   mqtt.conack.flags.sp        float64\n",
      " 6   mqtt.conack.val             float64\n",
      " 7   mqtt.conflag.cleansess      float64\n",
      " 8   mqtt.conflag.passwd         float64\n",
      " 9   mqtt.conflag.qos            float64\n",
      " 10  mqtt.conflag.reserved       float64\n",
      " 11  mqtt.conflag.retain         float64\n",
      " 12  mqtt.conflag.uname          float64\n",
      " 13  mqtt.conflag.willflag       float64\n",
      " 14  mqtt.conflags               object \n",
      " 15  mqtt.dupflag                float64\n",
      " 16  mqtt.hdrflags               object \n",
      " 17  mqtt.kalive                 float64\n",
      " 18  mqtt.len                    float64\n",
      " 19  mqtt.msg                    object \n",
      " 20  mqtt.msgid                  float64\n",
      " 21  mqtt.msgtype                float64\n",
      " 22  mqtt.proto_len              float64\n",
      " 23  mqtt.protoname              object \n",
      " 24  mqtt.qos                    float64\n",
      " 25  mqtt.retain                 float64\n",
      " 26  mqtt.sub.qos                float64\n",
      " 27  mqtt.suback.qos             float64\n",
      " 28  mqtt.ver                    float64\n",
      " 29  mqtt.willmsg                float64\n",
      " 30  mqtt.willmsg_len            float64\n",
      " 31  mqtt.willtopic              float64\n",
      " 32  mqtt.willtopic_len          float64\n",
      " 33  target                      int64  \n",
      "dtypes: float64(26), int64(2), object(6)\n",
      "memory usage: 3.1+ GB\n"
     ]
    }
   ],
   "source": [
    "df.info()"
   ]
  },
  {
   "cell_type": "code",
   "execution_count": 4,
   "id": "f6efef03",
   "metadata": {},
   "outputs": [
    {
     "data": {
      "text/html": [
       "<div>\n",
       "<style scoped>\n",
       "    .dataframe tbody tr th:only-of-type {\n",
       "        vertical-align: middle;\n",
       "    }\n",
       "\n",
       "    .dataframe tbody tr th {\n",
       "        vertical-align: top;\n",
       "    }\n",
       "\n",
       "    .dataframe thead th {\n",
       "        text-align: right;\n",
       "    }\n",
       "</style>\n",
       "<table border=\"1\" class=\"dataframe\">\n",
       "  <thead>\n",
       "    <tr style=\"text-align: right;\">\n",
       "      <th></th>\n",
       "      <th>tcp.time_delta</th>\n",
       "      <th>tcp.len</th>\n",
       "      <th>mqtt.conack.flags.reserved</th>\n",
       "      <th>mqtt.conack.flags.sp</th>\n",
       "      <th>mqtt.conack.val</th>\n",
       "      <th>mqtt.conflag.cleansess</th>\n",
       "      <th>mqtt.conflag.passwd</th>\n",
       "      <th>mqtt.conflag.qos</th>\n",
       "      <th>mqtt.conflag.reserved</th>\n",
       "      <th>mqtt.conflag.retain</th>\n",
       "      <th>...</th>\n",
       "      <th>mqtt.qos</th>\n",
       "      <th>mqtt.retain</th>\n",
       "      <th>mqtt.sub.qos</th>\n",
       "      <th>mqtt.suback.qos</th>\n",
       "      <th>mqtt.ver</th>\n",
       "      <th>mqtt.willmsg</th>\n",
       "      <th>mqtt.willmsg_len</th>\n",
       "      <th>mqtt.willtopic</th>\n",
       "      <th>mqtt.willtopic_len</th>\n",
       "      <th>target</th>\n",
       "    </tr>\n",
       "  </thead>\n",
       "  <tbody>\n",
       "    <tr>\n",
       "      <th>count</th>\n",
       "      <td>1.208118e+07</td>\n",
       "      <td>1.208118e+07</td>\n",
       "      <td>12081179.0</td>\n",
       "      <td>12081179.0</td>\n",
       "      <td>1.208118e+07</td>\n",
       "      <td>1.208118e+07</td>\n",
       "      <td>1.208118e+07</td>\n",
       "      <td>12081179.0</td>\n",
       "      <td>12081179.0</td>\n",
       "      <td>12081179.0</td>\n",
       "      <td>...</td>\n",
       "      <td>1.208118e+07</td>\n",
       "      <td>1.208118e+07</td>\n",
       "      <td>12081179.0</td>\n",
       "      <td>12081179.0</td>\n",
       "      <td>1.208118e+07</td>\n",
       "      <td>12081179.0</td>\n",
       "      <td>12081179.0</td>\n",
       "      <td>12081179.0</td>\n",
       "      <td>12081179.0</td>\n",
       "      <td>1.208118e+07</td>\n",
       "    </tr>\n",
       "    <tr>\n",
       "      <th>mean</th>\n",
       "      <td>5.010469e-01</td>\n",
       "      <td>1.175043e+01</td>\n",
       "      <td>0.0</td>\n",
       "      <td>0.0</td>\n",
       "      <td>5.910019e-04</td>\n",
       "      <td>2.724900e-04</td>\n",
       "      <td>1.177037e-04</td>\n",
       "      <td>0.0</td>\n",
       "      <td>0.0</td>\n",
       "      <td>0.0</td>\n",
       "      <td>...</td>\n",
       "      <td>4.505438e-03</td>\n",
       "      <td>1.001558e-05</td>\n",
       "      <td>0.0</td>\n",
       "      <td>0.0</td>\n",
       "      <td>1.089960e-03</td>\n",
       "      <td>0.0</td>\n",
       "      <td>0.0</td>\n",
       "      <td>0.0</td>\n",
       "      <td>0.0</td>\n",
       "      <td>5.997287e-02</td>\n",
       "    </tr>\n",
       "    <tr>\n",
       "      <th>std</th>\n",
       "      <td>3.802297e+00</td>\n",
       "      <td>1.583781e+02</td>\n",
       "      <td>0.0</td>\n",
       "      <td>0.0</td>\n",
       "      <td>5.435679e-02</td>\n",
       "      <td>1.650502e-02</td>\n",
       "      <td>1.084850e-02</td>\n",
       "      <td>0.0</td>\n",
       "      <td>0.0</td>\n",
       "      <td>0.0</td>\n",
       "      <td>...</td>\n",
       "      <td>6.697118e-02</td>\n",
       "      <td>3.164724e-03</td>\n",
       "      <td>0.0</td>\n",
       "      <td>0.0</td>\n",
       "      <td>6.602009e-02</td>\n",
       "      <td>0.0</td>\n",
       "      <td>0.0</td>\n",
       "      <td>0.0</td>\n",
       "      <td>0.0</td>\n",
       "      <td>5.295195e-01</td>\n",
       "    </tr>\n",
       "    <tr>\n",
       "      <th>min</th>\n",
       "      <td>-2.000000e-06</td>\n",
       "      <td>0.000000e+00</td>\n",
       "      <td>0.0</td>\n",
       "      <td>0.0</td>\n",
       "      <td>0.000000e+00</td>\n",
       "      <td>0.000000e+00</td>\n",
       "      <td>0.000000e+00</td>\n",
       "      <td>0.0</td>\n",
       "      <td>0.0</td>\n",
       "      <td>0.0</td>\n",
       "      <td>...</td>\n",
       "      <td>0.000000e+00</td>\n",
       "      <td>0.000000e+00</td>\n",
       "      <td>0.0</td>\n",
       "      <td>0.0</td>\n",
       "      <td>0.000000e+00</td>\n",
       "      <td>0.0</td>\n",
       "      <td>0.0</td>\n",
       "      <td>0.0</td>\n",
       "      <td>0.0</td>\n",
       "      <td>0.000000e+00</td>\n",
       "    </tr>\n",
       "    <tr>\n",
       "      <th>25%</th>\n",
       "      <td>4.000000e-06</td>\n",
       "      <td>0.000000e+00</td>\n",
       "      <td>0.0</td>\n",
       "      <td>0.0</td>\n",
       "      <td>0.000000e+00</td>\n",
       "      <td>0.000000e+00</td>\n",
       "      <td>0.000000e+00</td>\n",
       "      <td>0.0</td>\n",
       "      <td>0.0</td>\n",
       "      <td>0.0</td>\n",
       "      <td>...</td>\n",
       "      <td>0.000000e+00</td>\n",
       "      <td>0.000000e+00</td>\n",
       "      <td>0.0</td>\n",
       "      <td>0.0</td>\n",
       "      <td>0.000000e+00</td>\n",
       "      <td>0.0</td>\n",
       "      <td>0.0</td>\n",
       "      <td>0.0</td>\n",
       "      <td>0.0</td>\n",
       "      <td>0.000000e+00</td>\n",
       "    </tr>\n",
       "    <tr>\n",
       "      <th>50%</th>\n",
       "      <td>7.300000e-05</td>\n",
       "      <td>1.200000e+01</td>\n",
       "      <td>0.0</td>\n",
       "      <td>0.0</td>\n",
       "      <td>0.000000e+00</td>\n",
       "      <td>0.000000e+00</td>\n",
       "      <td>0.000000e+00</td>\n",
       "      <td>0.0</td>\n",
       "      <td>0.0</td>\n",
       "      <td>0.0</td>\n",
       "      <td>...</td>\n",
       "      <td>0.000000e+00</td>\n",
       "      <td>0.000000e+00</td>\n",
       "      <td>0.0</td>\n",
       "      <td>0.0</td>\n",
       "      <td>0.000000e+00</td>\n",
       "      <td>0.0</td>\n",
       "      <td>0.0</td>\n",
       "      <td>0.0</td>\n",
       "      <td>0.0</td>\n",
       "      <td>0.000000e+00</td>\n",
       "    </tr>\n",
       "    <tr>\n",
       "      <th>75%</th>\n",
       "      <td>9.988260e-01</td>\n",
       "      <td>1.300000e+01</td>\n",
       "      <td>0.0</td>\n",
       "      <td>0.0</td>\n",
       "      <td>0.000000e+00</td>\n",
       "      <td>0.000000e+00</td>\n",
       "      <td>0.000000e+00</td>\n",
       "      <td>0.0</td>\n",
       "      <td>0.0</td>\n",
       "      <td>0.0</td>\n",
       "      <td>...</td>\n",
       "      <td>0.000000e+00</td>\n",
       "      <td>0.000000e+00</td>\n",
       "      <td>0.0</td>\n",
       "      <td>0.0</td>\n",
       "      <td>0.000000e+00</td>\n",
       "      <td>0.0</td>\n",
       "      <td>0.0</td>\n",
       "      <td>0.0</td>\n",
       "      <td>0.0</td>\n",
       "      <td>0.000000e+00</td>\n",
       "    </tr>\n",
       "    <tr>\n",
       "      <th>max</th>\n",
       "      <td>6.000189e+01</td>\n",
       "      <td>3.276800e+04</td>\n",
       "      <td>0.0</td>\n",
       "      <td>0.0</td>\n",
       "      <td>5.000000e+00</td>\n",
       "      <td>1.000000e+00</td>\n",
       "      <td>1.000000e+00</td>\n",
       "      <td>0.0</td>\n",
       "      <td>0.0</td>\n",
       "      <td>0.0</td>\n",
       "      <td>...</td>\n",
       "      <td>1.000000e+00</td>\n",
       "      <td>1.000000e+00</td>\n",
       "      <td>0.0</td>\n",
       "      <td>0.0</td>\n",
       "      <td>4.000000e+00</td>\n",
       "      <td>0.0</td>\n",
       "      <td>0.0</td>\n",
       "      <td>0.0</td>\n",
       "      <td>0.0</td>\n",
       "      <td>5.000000e+00</td>\n",
       "    </tr>\n",
       "  </tbody>\n",
       "</table>\n",
       "<p>8 rows × 28 columns</p>\n",
       "</div>"
      ],
      "text/plain": [
       "       tcp.time_delta       tcp.len  mqtt.conack.flags.reserved  \\\n",
       "count    1.208118e+07  1.208118e+07                  12081179.0   \n",
       "mean     5.010469e-01  1.175043e+01                         0.0   \n",
       "std      3.802297e+00  1.583781e+02                         0.0   \n",
       "min     -2.000000e-06  0.000000e+00                         0.0   \n",
       "25%      4.000000e-06  0.000000e+00                         0.0   \n",
       "50%      7.300000e-05  1.200000e+01                         0.0   \n",
       "75%      9.988260e-01  1.300000e+01                         0.0   \n",
       "max      6.000189e+01  3.276800e+04                         0.0   \n",
       "\n",
       "       mqtt.conack.flags.sp  mqtt.conack.val  mqtt.conflag.cleansess  \\\n",
       "count            12081179.0     1.208118e+07            1.208118e+07   \n",
       "mean                    0.0     5.910019e-04            2.724900e-04   \n",
       "std                     0.0     5.435679e-02            1.650502e-02   \n",
       "min                     0.0     0.000000e+00            0.000000e+00   \n",
       "25%                     0.0     0.000000e+00            0.000000e+00   \n",
       "50%                     0.0     0.000000e+00            0.000000e+00   \n",
       "75%                     0.0     0.000000e+00            0.000000e+00   \n",
       "max                     0.0     5.000000e+00            1.000000e+00   \n",
       "\n",
       "       mqtt.conflag.passwd  mqtt.conflag.qos  mqtt.conflag.reserved  \\\n",
       "count         1.208118e+07        12081179.0             12081179.0   \n",
       "mean          1.177037e-04               0.0                    0.0   \n",
       "std           1.084850e-02               0.0                    0.0   \n",
       "min           0.000000e+00               0.0                    0.0   \n",
       "25%           0.000000e+00               0.0                    0.0   \n",
       "50%           0.000000e+00               0.0                    0.0   \n",
       "75%           0.000000e+00               0.0                    0.0   \n",
       "max           1.000000e+00               0.0                    0.0   \n",
       "\n",
       "       mqtt.conflag.retain  ...      mqtt.qos   mqtt.retain  mqtt.sub.qos  \\\n",
       "count           12081179.0  ...  1.208118e+07  1.208118e+07    12081179.0   \n",
       "mean                   0.0  ...  4.505438e-03  1.001558e-05           0.0   \n",
       "std                    0.0  ...  6.697118e-02  3.164724e-03           0.0   \n",
       "min                    0.0  ...  0.000000e+00  0.000000e+00           0.0   \n",
       "25%                    0.0  ...  0.000000e+00  0.000000e+00           0.0   \n",
       "50%                    0.0  ...  0.000000e+00  0.000000e+00           0.0   \n",
       "75%                    0.0  ...  0.000000e+00  0.000000e+00           0.0   \n",
       "max                    0.0  ...  1.000000e+00  1.000000e+00           0.0   \n",
       "\n",
       "       mqtt.suback.qos      mqtt.ver  mqtt.willmsg  mqtt.willmsg_len  \\\n",
       "count       12081179.0  1.208118e+07    12081179.0        12081179.0   \n",
       "mean               0.0  1.089960e-03           0.0               0.0   \n",
       "std                0.0  6.602009e-02           0.0               0.0   \n",
       "min                0.0  0.000000e+00           0.0               0.0   \n",
       "25%                0.0  0.000000e+00           0.0               0.0   \n",
       "50%                0.0  0.000000e+00           0.0               0.0   \n",
       "75%                0.0  0.000000e+00           0.0               0.0   \n",
       "max                0.0  4.000000e+00           0.0               0.0   \n",
       "\n",
       "       mqtt.willtopic  mqtt.willtopic_len        target  \n",
       "count      12081179.0          12081179.0  1.208118e+07  \n",
       "mean              0.0                 0.0  5.997287e-02  \n",
       "std               0.0                 0.0  5.295195e-01  \n",
       "min               0.0                 0.0  0.000000e+00  \n",
       "25%               0.0                 0.0  0.000000e+00  \n",
       "50%               0.0                 0.0  0.000000e+00  \n",
       "75%               0.0                 0.0  0.000000e+00  \n",
       "max               0.0                 0.0  5.000000e+00  \n",
       "\n",
       "[8 rows x 28 columns]"
      ]
     },
     "execution_count": 4,
     "metadata": {},
     "output_type": "execute_result"
    }
   ],
   "source": [
    "df.describe()"
   ]
  },
  {
   "cell_type": "code",
   "execution_count": 5,
   "id": "4ec5c2e8",
   "metadata": {},
   "outputs": [
    {
     "name": "stdout",
     "output_type": "stream",
     "text": [
      "0           0\n",
      "1           0\n",
      "2           0\n",
      "3           0\n",
      "4           0\n",
      "           ..\n",
      "12081174    0\n",
      "12081175    0\n",
      "12081176    0\n",
      "12081177    0\n",
      "12081178    0\n",
      "Name: target, Length: 12081179, dtype: int64\n"
     ]
    }
   ],
   "source": [
    "# x = df.drop('target',axis=1)\n",
    "# X = df[x].values\n",
    "# y = df['target']\n",
    "# labels = df.pop('target')\n",
    "z = df['target']\n",
    "print(z)"
   ]
  },
  {
   "cell_type": "code",
   "execution_count": 6,
   "id": "e2c04161",
   "metadata": {},
   "outputs": [
    {
     "name": "stdout",
     "output_type": "stream",
     "text": [
      "Ready to generate train and test datasets\n",
      "0           0\n",
      "1           0\n",
      "2           0\n",
      "3           0\n",
      "4           0\n",
      "           ..\n",
      "12081174    0\n",
      "12081175    0\n",
      "12081176    0\n",
      "12081177    0\n",
      "12081178    0\n",
      "Name: target, Length: 12081179, dtype: int8\n"
     ]
    }
   ],
   "source": [
    "# x_train, x_test, y_train, y_test = train_test_split(x,y,test_size=0.3)\n",
    "# X_train, X_test, y_train, y_test = train_test_split(df,labels,test_size=0.3)\n",
    "seed = 7\n",
    "class_names = df.target.unique()\n",
    "df=df.astype('category')\n",
    "cat_columns = df.select_dtypes(['category']).columns\n",
    "df[cat_columns] = df[cat_columns].apply(lambda x: x.cat.codes)\n",
    "\n",
    "x_columns = df.columns.drop('target')\n",
    "x = df[x_columns].values\n",
    "y = df['target']\n",
    "\n",
    "print(\"Ready to generate train and test datasets\")\n",
    "x_train, x_test, y_train, y_test = train_test_split(x, y, test_size=0.3, random_state=seed)"
   ]
  },
  {
   "cell_type": "code",
   "execution_count": 10,
   "id": "f658ac1b-620b-4813-89f3-97088a9d4ea0",
   "metadata": {},
   "outputs": [
    {
     "name": "stdout",
     "output_type": "stream",
     "text": [
      "Original values in 'target': [0, 3, 5, 2, 1, 4]\n",
      "Categories (6, int8): [0, 1, 2, 3, 4, 5]\n",
      "Numeric codes for 'target': [0 3 5 2 1 4]\n"
     ]
    }
   ],
   "source": [
    "# Assuming 'target' is the name of the column you are interested in\n",
    "target_column = 'target'\n",
    "\n",
    "print(f\"Original values in '{target_column}': {df[target_column].unique()}\")\n",
    "# Check if the 'target' column is of the 'category' dtype\n",
    "if df[target_column].dtype.name == 'category':\n",
    "    # If it's already a category, print the numeric codes\n",
    "    print(f\"Numeric codes for '{target_column}': {df[target_column].cat.codes.unique()}\")\n",
    "else:\n",
    "    # If it's not a category, convert it and then print the numeric codes\n",
    "    df[target_column] = df[target_column].astype('category')\n",
    "    print(f\"Numeric codes for '{target_column}': {df[target_column].cat.codes.unique()}\")\n"
   ]
  },
  {
   "cell_type": "code",
   "execution_count": 91,
   "id": "e70b5257",
   "metadata": {},
   "outputs": [
    {
     "name": "stdout",
     "output_type": "stream",
     "text": [
      "building tree 1 of 40\n",
      "building tree 2 of 40\n",
      "building tree 3 of 40\n",
      "building tree 4 of 40\n",
      "building tree 5 of 40\n",
      "building tree 6 of 40\n",
      "building tree 7 of 40\n",
      "building tree 8 of 40\n",
      "building tree 9 of 40\n",
      "building tree 10 of 40\n",
      "building tree 11 of 40\n",
      "building tree 12 of 40\n",
      "building tree 13 of 40\n",
      "building tree 14 of 40\n",
      "building tree 15 of 40\n",
      "building tree 16 of 40\n",
      "building tree 17 of 40\n",
      "building tree 18 of 40\n",
      "building tree 19 of 40\n",
      "building tree 20 of 40\n",
      "building tree 21 of 40\n",
      "building tree 22 of 40\n",
      "building tree 23 of 40\n",
      "building tree 24 of 40\n",
      "building tree 25 of 40\n",
      "building tree 26 of 40\n",
      "building tree 27 of 40\n",
      "building tree 28 of 40\n",
      "building tree 29 of 40\n",
      "building tree 30 of 40\n",
      "building tree 31 of 40\n",
      "building tree 32 of 40\n",
      "building tree 33 of 40\n",
      "building tree 34 of 40\n",
      "building tree 35 of 40\n",
      "building tree 36 of 40\n",
      "building tree 37 of 40\n",
      "building tree 38 of 40\n",
      "building tree 39 of 40\n",
      "building tree 40 of 40\n"
     ]
    },
    {
     "name": "stderr",
     "output_type": "stream",
     "text": [
      "[Parallel(n_jobs=1)]: Done  40 tasks      | elapsed:  3.7min\n",
      "[Parallel(n_jobs=1)]: Done  40 tasks      | elapsed:  3.7min\n"
     ]
    },
    {
     "data": {
      "text/html": [
       "<style>#sk-container-id-1 {color: black;}#sk-container-id-1 pre{padding: 0;}#sk-container-id-1 div.sk-toggleable {background-color: white;}#sk-container-id-1 label.sk-toggleable__label {cursor: pointer;display: block;width: 100%;margin-bottom: 0;padding: 0.3em;box-sizing: border-box;text-align: center;}#sk-container-id-1 label.sk-toggleable__label-arrow:before {content: \"▸\";float: left;margin-right: 0.25em;color: #696969;}#sk-container-id-1 label.sk-toggleable__label-arrow:hover:before {color: black;}#sk-container-id-1 div.sk-estimator:hover label.sk-toggleable__label-arrow:before {color: black;}#sk-container-id-1 div.sk-toggleable__content {max-height: 0;max-width: 0;overflow: hidden;text-align: left;background-color: #f0f8ff;}#sk-container-id-1 div.sk-toggleable__content pre {margin: 0.2em;color: black;border-radius: 0.25em;background-color: #f0f8ff;}#sk-container-id-1 input.sk-toggleable__control:checked~div.sk-toggleable__content {max-height: 200px;max-width: 100%;overflow: auto;}#sk-container-id-1 input.sk-toggleable__control:checked~label.sk-toggleable__label-arrow:before {content: \"▾\";}#sk-container-id-1 div.sk-estimator input.sk-toggleable__control:checked~label.sk-toggleable__label {background-color: #d4ebff;}#sk-container-id-1 div.sk-label input.sk-toggleable__control:checked~label.sk-toggleable__label {background-color: #d4ebff;}#sk-container-id-1 input.sk-hidden--visually {border: 0;clip: rect(1px 1px 1px 1px);clip: rect(1px, 1px, 1px, 1px);height: 1px;margin: -1px;overflow: hidden;padding: 0;position: absolute;width: 1px;}#sk-container-id-1 div.sk-estimator {font-family: monospace;background-color: #f0f8ff;border: 1px dotted black;border-radius: 0.25em;box-sizing: border-box;margin-bottom: 0.5em;}#sk-container-id-1 div.sk-estimator:hover {background-color: #d4ebff;}#sk-container-id-1 div.sk-parallel-item::after {content: \"\";width: 100%;border-bottom: 1px solid gray;flex-grow: 1;}#sk-container-id-1 div.sk-label:hover label.sk-toggleable__label {background-color: #d4ebff;}#sk-container-id-1 div.sk-serial::before {content: \"\";position: absolute;border-left: 1px solid gray;box-sizing: border-box;top: 0;bottom: 0;left: 50%;z-index: 0;}#sk-container-id-1 div.sk-serial {display: flex;flex-direction: column;align-items: center;background-color: white;padding-right: 0.2em;padding-left: 0.2em;position: relative;}#sk-container-id-1 div.sk-item {position: relative;z-index: 1;}#sk-container-id-1 div.sk-parallel {display: flex;align-items: stretch;justify-content: center;background-color: white;position: relative;}#sk-container-id-1 div.sk-item::before, #sk-container-id-1 div.sk-parallel-item::before {content: \"\";position: absolute;border-left: 1px solid gray;box-sizing: border-box;top: 0;bottom: 0;left: 50%;z-index: -1;}#sk-container-id-1 div.sk-parallel-item {display: flex;flex-direction: column;z-index: 1;position: relative;background-color: white;}#sk-container-id-1 div.sk-parallel-item:first-child::after {align-self: flex-end;width: 50%;}#sk-container-id-1 div.sk-parallel-item:last-child::after {align-self: flex-start;width: 50%;}#sk-container-id-1 div.sk-parallel-item:only-child::after {width: 0;}#sk-container-id-1 div.sk-dashed-wrapped {border: 1px dashed gray;margin: 0 0.4em 0.5em 0.4em;box-sizing: border-box;padding-bottom: 0.4em;background-color: white;}#sk-container-id-1 div.sk-label label {font-family: monospace;font-weight: bold;display: inline-block;line-height: 1.2em;}#sk-container-id-1 div.sk-label-container {text-align: center;}#sk-container-id-1 div.sk-container {/* jupyter's `normalize.less` sets `[hidden] { display: none; }` but bootstrap.min.css set `[hidden] { display: none !important; }` so we also need the `!important` here to be able to override the default hidden behavior on the sphinx rendered scikit-learn.org. See: https://github.com/scikit-learn/scikit-learn/issues/21755 */display: inline-block !important;position: relative;}#sk-container-id-1 div.sk-text-repr-fallback {display: none;}</style><div id=\"sk-container-id-1\" class=\"sk-top-container\"><div class=\"sk-text-repr-fallback\"><pre>RandomForestClassifier(n_estimators=40, oob_score=True, random_state=7,\n",
       "                       verbose=2)</pre><b>In a Jupyter environment, please rerun this cell to show the HTML representation or trust the notebook. <br />On GitHub, the HTML representation is unable to render, please try loading this page with nbviewer.org.</b></div><div class=\"sk-container\" hidden><div class=\"sk-item\"><div class=\"sk-estimator sk-toggleable\"><input class=\"sk-toggleable__control sk-hidden--visually\" id=\"sk-estimator-id-1\" type=\"checkbox\" checked><label for=\"sk-estimator-id-1\" class=\"sk-toggleable__label sk-toggleable__label-arrow\">RandomForestClassifier</label><div class=\"sk-toggleable__content\"><pre>RandomForestClassifier(n_estimators=40, oob_score=True, random_state=7,\n",
       "                       verbose=2)</pre></div></div></div></div></div>"
      ],
      "text/plain": [
       "RandomForestClassifier(n_estimators=40, oob_score=True, random_state=7,\n",
       "                       verbose=2)"
      ]
     },
     "execution_count": 91,
     "metadata": {},
     "output_type": "execute_result"
    }
   ],
   "source": [
    "rf = RandomForestClassifier(verbose=2,random_state=7,n_estimators=40, oob_score= True)\n",
    "rf.fit(x_train,y_train)"
   ]
  },
  {
   "cell_type": "code",
   "execution_count": 16,
   "id": "ea003eb2-082b-4e0e-bfa5-237d9179eb4d",
   "metadata": {},
   "outputs": [
    {
     "name": "stdout",
     "output_type": "stream",
     "text": [
      "0           6\n",
      "1           6\n",
      "2           2\n",
      "3           6\n",
      "4           6\n",
      "           ..\n",
      "12081174    6\n",
      "12081175    6\n",
      "12081176    2\n",
      "12081177    6\n",
      "12081178    2\n",
      "Name: tcp.flags, Length: 12081179, dtype: int8\n"
     ]
    }
   ],
   "source": [
    "z = df['tcp.flags']\n",
    "print(z)"
   ]
  },
  {
   "cell_type": "code",
   "execution_count": 13,
   "id": "dc849fcd-8604-4ee1-b1d9-dc50e6987949",
   "metadata": {},
   "outputs": [
    {
     "name": "stdout",
     "output_type": "stream",
     "text": [
      "<class 'pandas.core.frame.DataFrame'>\n",
      "RangeIndex: 12081179 entries, 0 to 12081178\n",
      "Data columns (total 34 columns):\n",
      " #   Column                      Dtype\n",
      "---  ------                      -----\n",
      " 0   tcp.flags                   int8 \n",
      " 1   tcp.time_delta              int16\n",
      " 2   tcp.len                     int16\n",
      " 3   mqtt.conack.flags           int8 \n",
      " 4   mqtt.conack.flags.reserved  int8 \n",
      " 5   mqtt.conack.flags.sp        int8 \n",
      " 6   mqtt.conack.val             int8 \n",
      " 7   mqtt.conflag.cleansess      int8 \n",
      " 8   mqtt.conflag.passwd         int8 \n",
      " 9   mqtt.conflag.qos            int8 \n",
      " 10  mqtt.conflag.reserved       int8 \n",
      " 11  mqtt.conflag.retain         int8 \n",
      " 12  mqtt.conflag.uname          int8 \n",
      " 13  mqtt.conflag.willflag       int8 \n",
      " 14  mqtt.conflags               int8 \n",
      " 15  mqtt.dupflag                int8 \n",
      " 16  mqtt.hdrflags               int8 \n",
      " 17  mqtt.kalive                 int8 \n",
      " 18  mqtt.len                    int8 \n",
      " 19  mqtt.msg                    int32\n",
      " 20  mqtt.msgid                  int16\n",
      " 21  mqtt.msgtype                int8 \n",
      " 22  mqtt.proto_len              int8 \n",
      " 23  mqtt.protoname              int8 \n",
      " 24  mqtt.qos                    int8 \n",
      " 25  mqtt.retain                 int8 \n",
      " 26  mqtt.sub.qos                int8 \n",
      " 27  mqtt.suback.qos             int8 \n",
      " 28  mqtt.ver                    int8 \n",
      " 29  mqtt.willmsg                int8 \n",
      " 30  mqtt.willmsg_len            int8 \n",
      " 31  mqtt.willtopic              int8 \n",
      " 32  mqtt.willtopic_len          int8 \n",
      " 33  target                      int8 \n",
      "dtypes: int16(3), int32(1), int8(30)\n",
      "memory usage: 460.9 MB\n"
     ]
    }
   ],
   "source": [
    "df.info()"
   ]
  },
  {
   "cell_type": "code",
   "execution_count": 90,
   "id": "4893e1b3",
   "metadata": {},
   "outputs": [
    {
     "name": "stderr",
     "output_type": "stream",
     "text": [
      "[Parallel(n_jobs=1)]: Done  40 tasks      | elapsed:   13.1s\n",
      "[Parallel(n_jobs=1)]: Done  40 tasks      | elapsed:   13.1s\n"
     ]
    },
    {
     "ename": "AttributeError",
     "evalue": "'list' object has no attribute 'take'",
     "output_type": "error",
     "traceback": [
      "\u001b[0;31m---------------------------------------------------------------------------\u001b[0m",
      "\u001b[0;31mAttributeError\u001b[0m                            Traceback (most recent call last)",
      "Cell \u001b[0;32mIn[90], line 1\u001b[0m\n\u001b[0;32m----> 1\u001b[0m y_pred_test \u001b[38;5;241m=\u001b[39m \u001b[43mrf\u001b[49m\u001b[38;5;241;43m.\u001b[39;49m\u001b[43mpredict\u001b[49m\u001b[43m(\u001b[49m\u001b[43mx_test\u001b[49m\u001b[43m)\u001b[49m\n\u001b[1;32m      2\u001b[0m accuracy_score(y_test, y_pred_test)\n",
      "File \u001b[0;32m/Library/Frameworks/Python.framework/Versions/3.10/lib/python3.10/site-packages/sklearn/ensemble/_forest.py:826\u001b[0m, in \u001b[0;36mForestClassifier.predict\u001b[0;34m(self, X)\u001b[0m\n\u001b[1;32m    823\u001b[0m proba \u001b[38;5;241m=\u001b[39m \u001b[38;5;28mself\u001b[39m\u001b[38;5;241m.\u001b[39mpredict_proba(X)\n\u001b[1;32m    825\u001b[0m \u001b[38;5;28;01mif\u001b[39;00m \u001b[38;5;28mself\u001b[39m\u001b[38;5;241m.\u001b[39mn_outputs_ \u001b[38;5;241m==\u001b[39m \u001b[38;5;241m1\u001b[39m:\n\u001b[0;32m--> 826\u001b[0m     \u001b[38;5;28;01mreturn\u001b[39;00m \u001b[38;5;28;43mself\u001b[39;49m\u001b[38;5;241;43m.\u001b[39;49m\u001b[43mclasses_\u001b[49m\u001b[38;5;241;43m.\u001b[39;49m\u001b[43mtake\u001b[49m(np\u001b[38;5;241m.\u001b[39margmax(proba, axis\u001b[38;5;241m=\u001b[39m\u001b[38;5;241m1\u001b[39m), axis\u001b[38;5;241m=\u001b[39m\u001b[38;5;241m0\u001b[39m)\n\u001b[1;32m    828\u001b[0m \u001b[38;5;28;01melse\u001b[39;00m:\n\u001b[1;32m    829\u001b[0m     n_samples \u001b[38;5;241m=\u001b[39m proba[\u001b[38;5;241m0\u001b[39m]\u001b[38;5;241m.\u001b[39mshape[\u001b[38;5;241m0\u001b[39m]\n",
      "\u001b[0;31mAttributeError\u001b[0m: 'list' object has no attribute 'take'"
     ]
    }
   ],
   "source": [
    "y_pred_test = rf.predict(x_test)\n",
    "accuracy_score(y_test, y_pred_test)"
   ]
  },
  {
   "cell_type": "code",
   "execution_count": 7,
   "id": "102c9025",
   "metadata": {},
   "outputs": [
    {
     "data": {
      "text/plain": [
       "array([[3574514,     192],\n",
       "       [   8332,   41316]])"
      ]
     },
     "execution_count": 7,
     "metadata": {},
     "output_type": "execute_result"
    }
   ],
   "source": [
    "# confusion matrix\n",
    "confusion_matrix(y_test, y_pred_test)"
   ]
  },
  {
   "cell_type": "code",
   "execution_count": 8,
   "id": "3b52e0e2",
   "metadata": {},
   "outputs": [
    {
     "name": "stdout",
     "output_type": "stream",
     "text": [
      "0.9976641351807564\n"
     ]
    }
   ],
   "source": [
    "print(rf.oob_score_)"
   ]
  },
  {
   "cell_type": "code",
   "execution_count": 9,
   "id": "2823ad3f",
   "metadata": {},
   "outputs": [
    {
     "data": {
      "image/png": "[encoded data removed]",
      "text/plain": [
       "<Figure size 640x480 with 2 Axes>"
      ]
     },
     "metadata": {},
     "output_type": "display_data"
    },
    {
     "data": {
      "image/png": "[encoded data removed]",
      "text/plain": [
       "<Figure size 2500x1600 with 1 Axes>"
      ]
     },
     "metadata": {},
     "output_type": "display_data"
    }
   ],
   "source": [
    "matrix = confusion_matrix(y_test,y_pred_test)\n",
    "matrix = matrix.astype('float') / matrix.sum(axis=1)[:, np.newaxis]\n",
    "sns.set(font_scale=1.4)\n",
    "sns.heatmap(matrix, annot=True, annot_kws={'size':10},cmap=plt.cm.Blues, linewidths=0.2)\n",
    "plt.figure(figsize=(25,16))\n",
    "class_names = ['legitimate', 'slowITE', 'Bruteforce', 'malformed', 'flood', 'DoS']\n",
    "tick_marks = np.arange(len(class_names))\n",
    "tick_marks2 = tick_marks + 0.5\n",
    "plt.xticks(tick_marks, class_names, rotation=25)\n",
    "plt.yticks(tick_marks2, class_names, rotation=0)\n",
    "plt.xlabel('Predicted label')\n",
    "plt.ylabel('True label')\n",
    "plt.title('Confusion Matrix for Random Forest Model')\n",
    "plt.show()"
   ]
  },
  {
   "cell_type": "code",
   "execution_count": 11,
   "id": "a6d35b74",
   "metadata": {},
   "outputs": [
    {
     "name": "stdout",
     "output_type": "stream",
     "text": [
      "              precision    recall  f1-score   support\n",
      "\n",
      "           0       1.00      1.00      1.00   3574706\n",
      "           1       1.00      1.00      1.00      2740\n",
      "           2       0.72      0.82      0.77      4336\n",
      "           3       0.82      0.58      0.68      3270\n",
      "           4       0.97      0.48      0.65       196\n",
      "           5       0.99      0.79      0.88     39106\n",
      "\n",
      "    accuracy                           1.00   3624354\n",
      "   macro avg       0.92      0.78      0.83   3624354\n",
      "weighted avg       1.00      1.00      1.00   3624354\n",
      "\n"
     ]
    }
   ],
   "source": [
    "print(classification_report(y_test, y_pred_test))"
   ]
  },
  {
   "cell_type": "code",
   "execution_count": 4,
   "id": "3d2b323f",
   "metadata": {},
   "outputs": [
    {
     "name": "stdout",
     "output_type": "stream",
     "text": [
      "Ready to generate train and test datasets\n"
     ]
    },
    {
     "name": "stderr",
     "output_type": "stream",
     "text": [
      "[Parallel(n_jobs=1)]: Using backend SequentialBackend with 1 concurrent workers.\n"
     ]
    },
    {
     "name": "stdout",
     "output_type": "stream",
     "text": [
      "building tree 1 of 40\n"
     ]
    },
    {
     "name": "stderr",
     "output_type": "stream",
     "text": [
      "[Parallel(n_jobs=1)]: Done   1 out of   1 | elapsed:    5.4s remaining:    0.0s\n"
     ]
    },
    {
     "name": "stdout",
     "output_type": "stream",
     "text": [
      "building tree 2 of 40\n",
      "building tree 3 of 40\n",
      "building tree 4 of 40\n",
      "building tree 5 of 40\n",
      "building tree 6 of 40\n",
      "building tree 7 of 40\n",
      "building tree 8 of 40\n",
      "building tree 9 of 40\n",
      "building tree 10 of 40\n",
      "building tree 11 of 40\n",
      "building tree 12 of 40\n",
      "building tree 13 of 40\n",
      "building tree 14 of 40\n",
      "building tree 15 of 40\n",
      "building tree 16 of 40\n",
      "building tree 17 of 40\n",
      "building tree 18 of 40\n",
      "building tree 19 of 40\n",
      "building tree 20 of 40\n",
      "building tree 21 of 40\n",
      "building tree 22 of 40\n",
      "building tree 23 of 40\n",
      "building tree 24 of 40\n",
      "building tree 25 of 40\n",
      "building tree 26 of 40\n",
      "building tree 27 of 40\n",
      "building tree 28 of 40\n",
      "building tree 29 of 40\n",
      "building tree 30 of 40\n",
      "building tree 31 of 40\n",
      "building tree 32 of 40\n",
      "building tree 33 of 40\n",
      "building tree 34 of 40\n",
      "building tree 35 of 40\n",
      "building tree 36 of 40\n",
      "building tree 37 of 40\n",
      "building tree 38 of 40\n",
      "building tree 39 of 40\n",
      "building tree 40 of 40\n"
     ]
    },
    {
     "name": "stderr",
     "output_type": "stream",
     "text": [
      "[Parallel(n_jobs=1)]: Done  40 out of  40 | elapsed:  4.0min finished\n",
      "[Parallel(n_jobs=1)]: Using backend SequentialBackend with 1 concurrent workers.\n",
      "[Parallel(n_jobs=1)]: Done   1 out of   1 | elapsed:    0.3s remaining:    0.0s\n",
      "[Parallel(n_jobs=1)]: Done  40 out of  40 | elapsed:   11.4s finished\n"
     ]
    },
    {
     "data": {
      "text/plain": [
       "0.9976481326051484"
      ]
     },
     "execution_count": 4,
     "metadata": {},
     "output_type": "execute_result"
    }
   ],
   "source": [
    "# df1 = pd.read_csv('mqttdatasetreduced1.csv',dtype={'mqtt.conack.flags':object,'mqtt.conflags':object,'mqtt.msg':object,'mqtt.protoname':object})\n",
    "# seed = 7\n",
    "# class_names = df1.target.unique()\n",
    "# df1=df1.astype('category')\n",
    "# cat_columns = df1.select_dtypes(['category']).columns\n",
    "# df1[cat_columns] = df1[cat_columns].apply(lambda x: x.cat.codes)\n",
    "\n",
    "# x_columns = df1.columns.drop('target')\n",
    "# x = df1[x_columns].values\n",
    "# y = df1['target']\n",
    "\n",
    "# print(\"Ready to generate train and test datasets\")\n",
    "# x_train, x_test, y_train, y_test = train_test_split(x, y, test_size=0.3, random_state=seed)\n",
    "# rf1 = RandomForestClassifier(verbose=2,random_state=7,n_estimators=40, oob_score= True)\n",
    "# rf1.fit(x_train,y_train)\n",
    "# y_pred_test = rf1.predict(x_test)\n",
    "# accuracy_score(y_test, y_pred_test)"
   ]
  },
  {
   "cell_type": "code",
   "execution_count": 5,
   "id": "277d42b0",
   "metadata": {},
   "outputs": [
    {
     "name": "stdout",
     "output_type": "stream",
     "text": [
      "0.9976641351807564\n"
     ]
    },
    {
     "data": {
      "text/plain": [
       "array([[  41316,    8332],\n",
       "       [    192, 3574514]])"
      ]
     },
     "execution_count": 5,
     "metadata": {},
     "output_type": "execute_result"
    }
   ],
   "source": [
    "# print(rf1.oob_score_)\n",
    "# # confusion matrix\n",
    "# confusion_matrix(y_test, y_pred_test)"
   ]
  },
  {
   "cell_type": "code",
   "execution_count": 6,
   "id": "b02e7c3d",
   "metadata": {},
   "outputs": [
    {
     "data": {
      "image/png": "[encoded data removed]",
      "text/plain": [
       "<Figure size 432x288 with 2 Axes>"
      ]
     },
     "metadata": {},
     "output_type": "display_data"
    },
    {
     "data": {
      "image/png": "[encoded data removed]",
      "text/plain": [
       "<Figure size 1800x1152 with 1 Axes>"
      ]
     },
     "metadata": {},
     "output_type": "display_data"
    }
   ],
   "source": [
    "# matrix = confusion_matrix(y_test,y_pred_test)\n",
    "# matrix = matrix.astype('float') / matrix.sum(axis=1)[:, np.newaxis]\n",
    "# sns.set(font_scale=1.4)\n",
    "# sns.heatmap(matrix, annot=True, annot_kws={'size':10},cmap=plt.cm.Blues, linewidths=0.2)\n",
    "# plt.figure(figsize=(25,16))\n",
    "# class_names = ['legitimate', 'slowITE', 'Bruteforce', 'malformed', 'flood', 'DoS']\n",
    "# tick_marks = np.arange(len(class_names))\n",
    "# tick_marks2 = tick_marks + 0.5\n",
    "# plt.xticks(tick_marks, class_names, rotation=25)\n",
    "# plt.yticks(tick_marks2, class_names, rotation=0)\n",
    "# plt.xlabel('Predicted label')\n",
    "# plt.ylabel('True label')\n",
    "# plt.title('Confusion Matrix for Random Forest Model')\n",
    "# plt.show()"
   ]
  },
  {
   "cell_type": "code",
   "execution_count": 40,
   "id": "e61acf08",
   "metadata": {},
   "outputs": [
    {
     "name": "stdout",
     "output_type": "stream",
     "text": [
      "              precision    recall  f1-score   support\n",
      "\n",
      "           0       1.00      0.83      0.91     49648\n",
      "           1       1.00      1.00      1.00   3574706\n",
      "\n",
      "    accuracy                           1.00   3624354\n",
      "   macro avg       1.00      0.92      0.95   3624354\n",
      "weighted avg       1.00      1.00      1.00   3624354\n",
      "\n"
     ]
    }
   ],
   "source": [
    "# print(classification_report(y_test, y_pred_test))"
   ]
  },
  {
   "cell_type": "code",
   "execution_count": 17,
   "id": "c60c3d0b",
   "metadata": {},
   "outputs": [
    {
     "name": "stdout",
     "output_type": "stream",
     "text": [
      "99.76481326051484\n",
      "0.9953743856605956\n",
      "0.8321785368997744\n",
      "0.9976744744261964\n",
      "0.9090327882408453\n",
      "0.9064899732327\n",
      "0.0023255255738036185\n",
      "0.9953743856605956\n",
      "0.0023255255738036185\n"
     ]
    }
   ],
   "source": [
    "# TP = 41316\n",
    "# FP = 8332\n",
    "# FN = 192\n",
    "# TN = 3574514\n",
    "# accuracy = ((TP+TN)/(TP+TN+FP+FN))*100\n",
    "# print(accuracy)\n",
    "# attack_det_rate = TP/(TP+FN)\n",
    "# print(attack_det_rate)\n",
    "# attack_pred_value = TP/(TP+FP)\n",
    "# print(attack_pred_value)\n",
    "# normal_pred_val = TN/(TN+FP)\n",
    "# print(normal_pred_val)\n",
    "# MCC = ((TP*TN)-(FP*FN))/((TP+FP)*(TP+FN)*(TN+FP)*(TN+FN))**0.5\n",
    "# print(MCC)\n",
    "# F1score = (2*TP)/(2*TP+FP+FN)\n",
    "# print(F1score)\n",
    "# false_alarm_rate = FP/(FP+TN)\n",
    "# print(false_alarm_rate)\n",
    "# TPR = TP/(TP+FN)\n",
    "# print(TPR)\n",
    "# FPR = FP/(FP+TN)\n",
    "# print(FPR)"
   ]
  },
  {
   "cell_type": "code",
   "execution_count": 92,
   "id": "6fe92841",
   "metadata": {},
   "outputs": [
    {
     "data": {
      "text/plain": [
       "['model_joblib2.pkl']"
      ]
     },
     "execution_count": 92,
     "metadata": {},
     "output_type": "execute_result"
    }
   ],
   "source": [
    "dump(rf,'model_joblib2.pkl')"
   ]
  },
  {
   "cell_type": "code",
   "execution_count": null,
   "id": "9c3ad8c8",
   "metadata": {},
   "outputs": [],
   "source": []
  }
 ],
 "metadata": {
  "kernelspec": {
   "display_name": "Python 3 (ipykernel)",
   "language": "python",
   "name": "python3"
  },
  "language_info": {
   "codemirror_mode": {
    "name": "ipython",
    "version": 3
   },
   "file_extension": ".py",
   "mimetype": "text/x-python",
   "name": "python",
   "nbconvert_exporter": "python",
   "pygments_lexer": "ipython3",
   "version": "3.10.0"
  }
 },
 "nbformat": 4,
 "nbformat_minor": 5
}
