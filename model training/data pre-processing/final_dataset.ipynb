{
 "cells": [
  {
   "cell_type": "code",
   "execution_count": 1,
   "id": "8bcd5949",
   "metadata": {},
   "outputs": [],
   "source": [
    "import pandas as pd\n",
    "import numpy as np\n",
    "import matplotlib.pyplot as pt\n",
    "import seaborn as sns\n",
    "from sklearn.utils import shuffle"
   ]
  },
  {
   "cell_type": "code",
   "execution_count": 2,
   "id": "a603924f",
   "metadata": {},
   "outputs": [],
   "source": [
    "def clean(df):\n",
    "    del df['frame.time_invalid']\n",
    "    del df['frame.time_epoch']\n",
    "    del df['frame.time_relative']\n",
    "    del df['frame.number']\n",
    "    del df['frame.time_delta']\n",
    "    del df['frame.time_delta_displayed']\n",
    "    del df['frame.cap_len']\n",
    "    del df['frame.len']\n",
    "    del df['tcp.window_size_value']\n",
    "    del df['eth.src']\n",
    "    del df['eth.dst']\n",
    "    del df['ip.src']\n",
    "    del df['ip.dst']\n",
    "    del df['ip.proto']\n",
    "    del df['tcp.srcport']\n",
    "    del df['tcp.dstport']\n",
    "    del df['tcp.analysis.initial_rtt']\n",
    "    del df['tcp.stream']\n",
    "    del df['mqtt.topic']\n",
    "    del df['tcp.checksum']\n",
    "    del df['mqtt.topic_len'] \n",
    "    del df['mqtt.passwd_len']\n",
    "    del df['mqtt.passwd']\n",
    "    del df['mqtt.clientid']\n",
    "    del df['mqtt.clientid_len']\n",
    "    del df['mqtt.username']\n",
    "    del df['mqtt.username_len']\n",
    "    return df"
   ]
  },
  {
   "cell_type": "code",
   "execution_count": 3,
   "id": "e0b5ae81",
   "metadata": {},
   "outputs": [
    {
     "name": "stdout",
     "output_type": "stream",
     "text": [
      "1\n"
     ]
    }
   ],
   "source": [
    "df_slowIte = pd.read_csv(\"slowite.csv\")\n",
    "df_slowIte.fillna(0,inplace=True)\n",
    "df_slowIte['target'] = 1\n",
    "df_slowIte = clean(df_slowIte)\n",
    "df_slowIte.to_csv(r'./mqttdataset.csv', index = False, header=True)\n",
    "print(df_slowIte['target'][0])"
   ]
  },
  {
   "cell_type": "code",
   "execution_count": 4,
   "id": "2fd844fd",
   "metadata": {},
   "outputs": [],
   "source": [
    "df_leg = pd.read_csv(\"legitimate_1w.csv\",dtype={'mqtt.clientid':object,'mqtt.conack.flags':object,'mqtt.conflags':object,'mqtt.msg':object,'mqtt.protoname':object})\n",
    "df_leg.fillna(0,inplace=True)\n",
    "df_leg['target'] = 0\n",
    "df_leg = clean(df_leg)\n",
    "df_leg.to_csv(r'./mqttdataset0.csv', index = False, header=True)"
   ]
  },
  {
   "cell_type": "code",
   "execution_count": 32,
   "id": "f2bc4c8a",
   "metadata": {},
   "outputs": [
    {
     "name": "stdout",
     "output_type": "stream",
     "text": [
      "mqtt.protoname\n"
     ]
    }
   ],
   "source": [
    "# df=pd.DataFrame(df_slowIte)\n",
    "# columns = list(df.columns.values)\n",
    "# print(columns[45])"
   ]
  },
  {
   "cell_type": "code",
   "execution_count": 7,
   "id": "cde07f8f",
   "metadata": {},
   "outputs": [],
   "source": [
    "df_brute = pd.read_csv(\"bruteforce.csv\")\n",
    "df_brute.fillna(0,inplace=True)\n",
    "df_brute['target'] = 2\n",
    "df_brute = clean(df_brute)\n",
    "df_brute.to_csv(r'./mqttdataset1.csv', index = False, header=True)"
   ]
  },
  {
   "cell_type": "code",
   "execution_count": 8,
   "id": "16a30199",
   "metadata": {},
   "outputs": [],
   "source": [
    "df_malformed = pd.read_csv(\"malformed.csv\")\n",
    "df_malformed.fillna(0,inplace=True)\n",
    "df_malformed['target'] = 3\n",
    "df_malformed = clean(df_malformed)\n",
    "df_malformed.to_csv(r'./mqttdataset2.csv', index = False, header=True)"
   ]
  },
  {
   "cell_type": "code",
   "execution_count": 9,
   "id": "d35d9d91",
   "metadata": {},
   "outputs": [],
   "source": [
    "df_flood = pd.read_csv(\"flood.csv\")#4\n",
    "df_flood.fillna(0,inplace=True)\n",
    "df_flood['target'] = 4\n",
    "df_flood = clean(df_flood)\n",
    "df_flood.to_csv(r'./mqttdataset3.csv', index = False, header=True)"
   ]
  },
  {
   "cell_type": "code",
   "execution_count": 10,
   "id": "9025c1a2",
   "metadata": {},
   "outputs": [],
   "source": [
    "df_dos = pd.read_csv(\"malaria.csv\",dtype={'mqtt.clientid':object,'mqtt.conack.flags':object,'mqtt.conflags':object,'mqtt.msg':object,'mqtt.protoname':object})\n",
    "df_dos.fillna(0,inplace=True)\n",
    "df_dos['target'] = 5\n",
    "df_dos = clean(df_dos)\n",
    "df_dos.to_csv(r'./mqttdataset4.csv', index = False, header=True)"
   ]
  },
  {
   "cell_type": "code",
   "execution_count": 11,
   "id": "a00a0f62",
   "metadata": {},
   "outputs": [],
   "source": [
    "df = pd.concat([df_slowIte,df_leg,df_brute,df_dos,df_flood,df_malformed])\n",
    "# df1 = pd.concat([df_slowIte,df_leg,df_brute,df_dos,df_flood,df_malformed])\n",
    "# for i in range(len(df1['target'])):\n",
    "#     if(df1[df1['target'][i]=='legitimate']):\n",
    "#         df1['target'][i] = 'yes'\n",
    "#     else:\n",
    "#         df1['target'][i] = 'no'\n",
    "# df1 = shuffle(df1,random_state=20)\n",
    "# df1.to_csv(r'./mqttdatasetreduced1.csv', index = False, header=True)\n",
    "df = shuffle(df,random_state=20)\n",
    "df.to_csv(r'./mqttdatasetreduced1.csv', index = False, header=True)"
   ]
  },
  {
   "cell_type": "code",
   "execution_count": null,
   "id": "28a13468",
   "metadata": {},
   "outputs": [],
   "source": []
  }
 ],
 "metadata": {
  "kernelspec": {
   "display_name": "Python 3 (ipykernel)",
   "language": "python",
   "name": "python3"
  },
  "language_info": {
   "codemirror_mode": {
    "name": "ipython",
    "version": 3
   },
   "file_extension": ".py",
   "mimetype": "text/x-python",
   "name": "python",
   "nbconvert_exporter": "python",
   "pygments_lexer": "ipython3",
   "version": "3.10.0"
  }
 },
 "nbformat": 4,
 "nbformat_minor": 5
}
